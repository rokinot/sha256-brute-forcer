{
 "cells": [
  {
   "cell_type": "code",
   "execution_count": 4,
   "metadata": {},
   "outputs": [
    {
     "name": "stdout",
     "output_type": "stream",
     "text": [
      "Hash: 9684c022748fed2b3b076cde6000d1dc8301e508f19382e2b510f84aed260380\n",
      "Brute-forcing...\n"
     ]
    }
   ],
   "source": [
    "import hashlib, itertools\n",
    "\n",
    "def brute_force(hash):\n",
    "    letters = [chr(n) for n in range(ord('a'), ord('z'))]\n",
    "    letters_U = [chr(n) for n in range(ord('a'), ord('z'))]\n",
    "    digits = [chr(n) for n in range(ord('0'), ord('9'))]\n",
    "    set = letters_U + digits + letters\n",
    "    set = set + [' ']\n",
    "\n",
    "    for attempt in itertools.product(set, repeat=7):\n",
    "        password_try = ''.join(attempt)\n",
    "        global counter\n",
    "        counter = counter + 1\n",
    "        if hashlib.sha256(password_try.encode()).hexdigest() == hash:\n",
    "            return password_try\n",
    "\n",
    "counter = 0\n",
    "#test_password = \"3AC\"\n",
    "#key = hashlib.sha256(test_password.encode()).hexdigest()\n",
    "key = \"9684c022748fed2b3b076cde6000d1dc8301e508f19382e2b510f84aed260380\"\n",
    "print(\"Hash: %s\" % key)\n",
    "print(\"Brute-forcing...\")\n",
    "recovered_key = brute_force(key)\n",
    "print(\"Brute-force result: %s\" % recovered_key) \n",
    "print(\"Number of attempts: %d\" % counter)"
   ]
  }
 ],
 "metadata": {
  "interpreter": {
   "hash": "8a78f8cf488e3bcf49376bbaf71d0e84a8efc2be2b8abf1a02ed7431623e27f4"
  },
  "kernelspec": {
   "display_name": "Python 3.9.7 64-bit",
   "language": "python",
   "name": "python3"
  },
  "language_info": {
   "codemirror_mode": {
    "name": "ipython",
    "version": 3
   },
   "file_extension": ".py",
   "mimetype": "text/x-python",
   "name": "python",
   "nbconvert_exporter": "python",
   "pygments_lexer": "ipython3",
   "version": "3.9.7"
  },
  "orig_nbformat": 4
 },
 "nbformat": 4,
 "nbformat_minor": 2
}
